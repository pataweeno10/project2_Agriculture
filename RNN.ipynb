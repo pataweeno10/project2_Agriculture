{
 "nbformat": 4,
 "nbformat_minor": 2,
 "metadata": {
  "language_info": {
   "name": "python",
   "codemirror_mode": {
    "name": "ipython",
    "version": 3
   },
   "version": "3.7.4-final"
  },
  "orig_nbformat": 2,
  "file_extension": ".py",
  "mimetype": "text/x-python",
  "name": "python",
  "npconvert_exporter": "python",
  "pygments_lexer": "ipython3",
  "version": 3,
  "kernelspec": {
   "name": "python37464bitasusvirtualenv61b8c41673f142adbf5f1f5f9294baf8",
   "display_name": "Python 3.7.4 64-bit ('ASUS': virtualenv)"
  }
 },
 "cells": [
  {
   "cell_type": "code",
   "execution_count": 69,
   "metadata": {},
   "outputs": [],
   "source": [
    "import pandas as pd\n",
    "import numpy as np\n",
    "import matplotlib.pyplot as plt\n",
    "import matplotlib.cm as cm\n",
    "# multivariate linear regression with regularization\n",
    "from sklearn.linear_model import LinearRegression, Ridge, Lasso\n",
    "# support vector machine regression\n",
    "from sklearn.svm import SVR\n",
    "from sklearn.metrics import r2_score\n",
    "# neural network\n",
    "import tensorflow\n",
    "from tensorflow.keras.models import Sequential\n",
    "from tensorflow.keras.layers import LSTM, GRU, Dense, Dropout, Bidirectional, BatchNormalization\n",
    "# normalization\n",
    "from sklearn.preprocessing import MinMaxScaler, StandardScaler\n",
    "from sklearn.pipeline import Pipeline\n",
    "# score\n",
    "from sklearn.metrics import mean_absolute_error\n",
    "from sklearn.model_selection import train_test_split, StratifiedShuffleSplit, GridSearchCV, RandomizedSearchCV\n",
    "# import keras\n",
    "import tensorflow.keras\n",
    "from tensorflow.keras import optimizers, regularizers\n",
    "from tensorflow.keras.layers import Activation\n",
    "from tensorflow.keras import backend as K\n",
    "# import regularizer\n",
    "from tensorflow.keras.regularizers import l1, l2\n",
    "# import matplotlib\n",
    "import matplotlib.pyplot as plt\n",
    "# os\n",
    "import os\n",
    "\n",
    "import pickle\n",
    "from calendar import monthrange"
   ]
  },
  {
   "cell_type": "code",
   "execution_count": 70,
   "metadata": {},
   "outputs": [],
   "source": [
    "tempChiangmai=pd.read_csv('noaa_chiangMai.csv')\n",
    "tempChiangrai=pd.read_csv('noaa_chiangRai.csv')\n",
    "Area_chiangmai=pd.read_csv('chiangmaiarea1994.csv')\n",
    "tempChiangrai=tempChiangrai.iloc[:,[2,3,4,7]]\n",
    "tempChiangmai=tempChiangmai.iloc[:,[2,3,4,7]]"
   ]
  },
  {
   "cell_type": "code",
   "execution_count": 71,
   "metadata": {},
   "outputs": [],
   "source": [
    "tempChiangmai=tempChiangmai.loc[(tempChiangmai['YEAR']>=1994)&(tempChiangmai['YEAR']<=2018)&(tempChiangmai['MONTH']<=2)&(tempChiangmai['DAY']<=28)]"
   ]
  },
  {
   "cell_type": "code",
   "execution_count": 72,
   "metadata": {},
   "outputs": [],
   "source": [
    "tempChiangmai_1=tempChiangmai.iloc[:,3]\n"
   ]
  },
  {
   "cell_type": "code",
   "execution_count": 73,
   "metadata": {},
   "outputs": [],
   "source": [
    "tempChiangmai_1=tempChiangmai_1.to_numpy()\n"
   ]
  },
  {
   "cell_type": "code",
   "execution_count": 74,
   "metadata": {},
   "outputs": [],
   "source": [
    "A=np.array([21.1])"
   ]
  },
  {
   "cell_type": "code",
   "execution_count": 75,
   "metadata": {},
   "outputs": [],
   "source": [
    "Area_chiangmai=Area_chiangmai.to_numpy()\n",
    "Y_chiangmai=Area_chiangmai[:,1]\n",
    "Area_chiangmai=Area_chiangmai[:,0]"
   ]
  },
  {
   "cell_type": "code",
   "execution_count": 76,
   "metadata": {},
   "outputs": [],
   "source": [
    "tempChiangmai_1=np.concatenate((tempChiangmai_1,A),axis=0)\n"
   ]
  },
  {
   "cell_type": "code",
   "execution_count": 77,
   "metadata": {},
   "outputs": [],
   "source": [
    "tempChiangmai_1=tempChiangmai_1.reshape(25,56)"
   ]
  },
  {
   "cell_type": "code",
   "execution_count": 78,
   "metadata": {},
   "outputs": [
    {
     "name": "stdout",
     "output_type": "stream",
     "text": "(25,)\n(25, 56)\n"
    }
   ],
   "source": [
    "print(Area_chiangmai.shape)\n",
    "Area_chiangmai=Area_chiangmai.reshape(25,1)\n",
    "print(tempChiangmai_1.shape)"
   ]
  },
  {
   "cell_type": "code",
   "execution_count": 79,
   "metadata": {},
   "outputs": [],
   "source": [
    "X_chiangmai=np.concatenate((tempChiangmai_1,Area_chiangmai),axis=1)"
   ]
  },
  {
   "cell_type": "code",
   "execution_count": 80,
   "metadata": {},
   "outputs": [],
   "source": [
    "X_chiangmai=X_chiangmai.reshape(25,1,57)"
   ]
  },
  {
   "cell_type": "code",
   "execution_count": 81,
   "metadata": {},
   "outputs": [
    {
     "name": "stdout",
     "output_type": "stream",
     "text": "57\n"
    }
   ],
   "source": [
    "print(X_chiangmai.shape[2])"
   ]
  },
  {
   "cell_type": "code",
   "execution_count": 82,
   "metadata": {},
   "outputs": [],
   "source": [
    "n_size=X_chiangmai.shape[0]\n",
    "\n",
    "X_train, X_test, Y_train, Y_test =  train_test_split(X_chiangmai, Y_chiangmai, test_size=0.2)\n",
    "X_train_ord = X_chiangmai[:int(n_size*(1-0.3)), :]\n",
    "X_test_ord  = X_chiangmai[int(n_size*(1-0.3)):, :]\n",
    "Y_train_ord = Y_chiangmai[:int(n_size*(1-0.3))]\n",
    "Y_test_ord  = Y_chiangmai[int(n_size*(1-0.3)):]"
   ]
  },
  {
   "cell_type": "code",
   "execution_count": 83,
   "metadata": {},
   "outputs": [],
   "source": [
    "    rnn = Sequential()\n",
    "    rnn.add(GRU(100, activation='relu', return_sequences=True, input_shape=(X_chiangmai.shape[1],X_chiangmai.shape[2])))\n",
    "    rnn.add(Dropout(0.4))\n",
    "    rnn.add(GRU(100, activation='relu', return_sequences=True))\n",
    "    rnn.add(Dropout(0.4))\n",
    "    rnn.add(GRU(100, activation='relu'))    \n",
    "    # rnn.add(BatchNormalization())    \n",
    "    rnn.add(Dropout(0.4))\n",
    "    rnn.add(Dense(50, activation='relu'))\n",
    "    rnn.add(Dropout(0.4))    \n",
    "    rnn.add(Dense(1, activation='relu'))\n",
    "    rnn.compile(optimizer='adam', loss='mse',metrics=['mse', 'mae', 'mape'])"
   ]
  },
  {
   "cell_type": "code",
   "execution_count": null,
   "metadata": {},
   "outputs": [],
   "source": [
    "X_train=K.constant(X_train)\n",
    "Y_train=K.constant(Y_train)"
   ]
  },
  {
   "cell_type": "code",
   "execution_count": null,
   "metadata": {},
   "outputs": [],
   "source": [
    "rnn.fit(X_train, Y_train, epochs=300, batch_size=1, verbose=2)\n"
   ]
  },
  {
   "cell_type": "code",
   "execution_count": null,
   "metadata": {},
   "outputs": [],
   "source": []
  }
 ]
}